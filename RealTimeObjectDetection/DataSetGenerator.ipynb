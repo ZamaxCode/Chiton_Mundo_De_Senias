{
 "cells": [
  {
   "cell_type": "code",
   "execution_count": 1,
   "id": "a68a831a",
   "metadata": {},
   "outputs": [],
   "source": [
    "import cv2\n",
    "import uuid\n",
    "import os\n",
    "import time"
   ]
  },
  {
   "cell_type": "code",
   "execution_count": 2,
   "id": "bd5ac862",
   "metadata": {},
   "outputs": [],
   "source": [
    "RUTA_DE_DATASET = 'Tensorflow\\\\workspace\\\\images\\\\abc'"
   ]
  },
  {
   "cell_type": "code",
   "execution_count": 3,
   "id": "bf59bbe9",
   "metadata": {},
   "outputs": [],
   "source": [
    "etiquetas = ['a', 'b', 'c']\n",
    "num_img = 10"
   ]
  },
  {
   "cell_type": "code",
   "execution_count": 4,
   "id": "cc85aa7b",
   "metadata": {},
   "outputs": [
    {
     "name": "stdout",
     "output_type": "stream",
     "text": [
      "Imagenes para a\n",
      "Imagenes para b\n"
     ]
    },
    {
     "ename": "Error",
     "evalue": "Canceled future for execute_request message before replies were done",
     "output_type": "error",
     "traceback": [
      "Error: Canceled future for execute_request message before replies were done",
      "at t.KernelShellFutureHandler.dispose (c:\\Users\\zarat\\.vscode\\extensions\\ms-toolsai.jupyter-2022.3.1000901801\\out\\extension.js:2:1204175)",
      "at c:\\Users\\zarat\\.vscode\\extensions\\ms-toolsai.jupyter-2022.3.1000901801\\out\\extension.js:2:1223227",
      "at Map.forEach (<anonymous>)",
      "at v._clearKernelState (c:\\Users\\zarat\\.vscode\\extensions\\ms-toolsai.jupyter-2022.3.1000901801\\out\\extension.js:2:1223212)",
      "at v.dispose (c:\\Users\\zarat\\.vscode\\extensions\\ms-toolsai.jupyter-2022.3.1000901801\\out\\extension.js:2:1216694)",
      "at c:\\Users\\zarat\\.vscode\\extensions\\ms-toolsai.jupyter-2022.3.1000901801\\out\\extension.js:2:533674",
      "at t.swallowExceptions (c:\\Users\\zarat\\.vscode\\extensions\\ms-toolsai.jupyter-2022.3.1000901801\\out\\extension.js:2:913059)",
      "at dispose (c:\\Users\\zarat\\.vscode\\extensions\\ms-toolsai.jupyter-2022.3.1000901801\\out\\extension.js:2:533652)",
      "at t.RawSession.dispose (c:\\Users\\zarat\\.vscode\\extensions\\ms-toolsai.jupyter-2022.3.1000901801\\out\\extension.js:2:537330)",
      "at processTicksAndRejections (node:internal/process/task_queues:96:5)"
     ]
    }
   ],
   "source": [
    "for etiqueta in etiquetas:\n",
    "    !mkdir {'Tensorflow\\\\workspace\\\\images\\\\abc\\\\'+etiqueta}\n",
    "    cap = cv2.VideoCapture(0)\n",
    "    print('Imagenes para {}'.format(etiqueta))\n",
    "    time.sleep(5)\n",
    "    for ni in range(num_img):\n",
    "        ret, frame = cap.read()\n",
    "        nombre_imagen = os.path.join(RUTA_DE_DATASET, etiqueta, etiqueta+'.'+'{}.jpg'.format(str(uuid.uuid1())))\n",
    "        cv2.imwrite(nombre_imagen, frame)\n",
    "        cv2.imshow(''.format(ni),frame)\n",
    "        time.sleep(2)\n",
    "    cap.release()\n",
    "    "
   ]
  },
  {
   "cell_type": "code",
   "execution_count": null,
   "id": "d5466ef2",
   "metadata": {},
   "outputs": [],
   "source": []
  }
 ],
 "metadata": {
  "kernelspec": {
   "display_name": "Python 3 (ipykernel)",
   "language": "python",
   "name": "python3"
  },
  "language_info": {
   "codemirror_mode": {
    "name": "ipython",
    "version": 3
   },
   "file_extension": ".py",
   "mimetype": "text/x-python",
   "name": "python",
   "nbconvert_exporter": "python",
   "pygments_lexer": "ipython3",
   "version": "3.7.3"
  }
 },
 "nbformat": 4,
 "nbformat_minor": 5
}
